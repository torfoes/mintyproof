{
 "cells": [
  {
   "cell_type": "code",
   "execution_count": 1,
   "id": "initial_id",
   "metadata": {
    "collapsed": true,
    "ExecuteTime": {
     "end_time": "2024-07-13T09:21:10.942541Z",
     "start_time": "2024-07-13T09:21:10.465756Z"
    }
   },
   "outputs": [
    {
     "name": "stdout",
     "output_type": "stream",
     "text": [
      "Issuer address: 0x8B13f8A4b998878f7132bA419bA7a25236d57ef1\n",
      "User address: 0x77f63C20B57A57e8e4aDcf4003dc4fd1992DAa49\n",
      "NFC device address: 0xc483E7f6c5b7Daa0789FD58184b510395E1ccA02\n",
      "\n",
      "Recovered issuer: 0x8B13f8A4b998878f7132bA419bA7a25236d57ef1\n",
      "Recovered user: 0x77f63C20B57A57e8e4aDcf4003dc4fd1992DAa49\n",
      "Recovered NFC device: 0xc483E7f6c5b7Daa0789FD58184b510395E1ccA02\n",
      "\n",
      "All signatures are valid. NFT can be minted.\n"
     ]
    }
   ],
   "source": [
    "from eth_account import Account\n",
    "from eth_account.messages import encode_defunct\n",
    "from web3 import Web3\n",
    "\n",
    "# Setup Web3\n",
    "w3 = Web3()\n",
    "\n",
    "def sign_message(private_key, message):\n",
    "    message_hash = encode_defunct(text=message)\n",
    "    signed_message = w3.eth.account.sign_message(message_hash, private_key=private_key)\n",
    "    return signed_message\n",
    "\n",
    "def recover_signer(message, signature):\n",
    "    message_hash = encode_defunct(text=message)\n",
    "    return w3.eth.account.recover_message(message_hash, signature=signature)\n",
    "\n",
    "# Generate keys for testing\n",
    "issuer = Account.create()\n",
    "user = Account.create()\n",
    "nfc_device = Account.create()\n",
    "\n",
    "print(f\"Issuer address: {issuer.address}\")\n",
    "print(f\"User address: {user.address}\")\n",
    "print(f\"NFC device address: {nfc_device.address}\")\n",
    "\n",
    "# Simulate contract address\n",
    "contract_address = \"0x1234567890123456789012345678901234567890\"\n",
    "\n",
    "# Create the message\n",
    "message = f\"Mint NFT for contract: {contract_address}\"\n",
    "\n",
    "# Sign messages\n",
    "issuer_signature = sign_message(issuer.key, message)\n",
    "user_signature = sign_message(user.key, message)\n",
    "\n",
    "# NFC device signs a message including the user's address\n",
    "nfc_message = f\"NFC interaction with user: {user.address}\"\n",
    "nfc_signature = sign_message(nfc_device.key, nfc_message)\n",
    "\n",
    "# Verify signatures\n",
    "recovered_issuer = recover_signer(message, issuer_signature.signature)\n",
    "recovered_user = recover_signer(message, user_signature.signature)\n",
    "recovered_nfc = recover_signer(nfc_message, nfc_signature.signature)\n",
    "\n",
    "print(f\"\\nRecovered issuer: {recovered_issuer}\")\n",
    "print(f\"Recovered user: {recovered_user}\")\n",
    "print(f\"Recovered NFC device: {recovered_nfc}\")\n",
    "\n",
    "# Check if all signatures are valid\n",
    "if recovered_issuer == issuer.address and recovered_user == user.address and recovered_nfc == nfc_device.address:\n",
    "    print(\"\\nAll signatures are valid. NFT can be minted.\")\n",
    "else:\n",
    "    print(\"\\nInvalid signatures. NFT cannot be minted.\")"
   ]
  }
 ],
 "metadata": {
  "kernelspec": {
   "display_name": "Python 3",
   "language": "python",
   "name": "python3"
  },
  "language_info": {
   "codemirror_mode": {
    "name": "ipython",
    "version": 2
   },
   "file_extension": ".py",
   "mimetype": "text/x-python",
   "name": "python",
   "nbconvert_exporter": "python",
   "pygments_lexer": "ipython2",
   "version": "2.7.6"
  }
 },
 "nbformat": 4,
 "nbformat_minor": 5
}

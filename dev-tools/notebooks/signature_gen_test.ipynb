{
 "cells": [
  {
   "cell_type": "code",
   "execution_count": 20,
   "id": "initial_id",
   "metadata": {
    "collapsed": true,
    "ExecuteTime": {
     "end_time": "2024-07-12T21:34:11.830478Z",
     "start_time": "2024-07-12T21:34:11.825681Z"
    }
   },
   "outputs": [
    {
     "name": "stdout",
     "output_type": "stream",
     "text": [
      "NFC Tag Private Key: 6c2b7bca294b9a21bbd0350e6b41c4e4843f5838bda41c6ae609389fac64da00\n",
      "Phone Wallet Private Key: 586df52aed4f7acb2edca7015e08a73b555fbef3fb530e976a8729d80477afcd\n"
     ]
    }
   ],
   "source": [
    "import hashlib\n",
    "import ecdsa\n",
    "import secrets\n",
    "import time\n",
    "\n",
    "\n",
    "nfc_private_key = secrets.randbits(256)\n",
    "phone_private_key = secrets.randbits(256)\n",
    "\n",
    "#  to hex strings\n",
    "nfc_private_key_hex = hex(nfc_private_key)[2:].zfill(64)\n",
    "phone_private_key_hex = hex(phone_private_key)[2:].zfill(64)\n",
    "\n",
    "print(\"NFC Tag Private Key:\", nfc_private_key_hex)\n",
    "print(\"Phone Wallet Private Key:\", phone_private_key_hex)"
   ]
  },
  {
   "cell_type": "code",
   "outputs": [
    {
     "name": "stdout",
     "output_type": "stream",
     "text": [
      "\n",
      "NFC Tag Message: This is an NFC tag message\n",
      "NFC Tag Signature: 7986ea66a42fa1af101c997ef953574bd0936ea95225c23a591bac7f330b8296120818c6022520deda1017380662a72409f3f2eceb58cc0a405d0abff2883b77\n",
      "\n",
      "Phone Wallet Message: This is a phone wallet message\n",
      "Phone Wallet Signature: aa4f055b5bb63feaf35a588fa8be6bec8b10a8b98884a80cdf4c73a25b05962a6499cf11819568d90b864e51dc3047fd559c4e781055cac13612378140f55302\n",
      "\n",
      "NFC Tag Public Key: 7dfe09d07126c7bfc6ebe92817d0776971cf796861ce1597ba4c951675ea10301d44ba41b6a296d73fbab46fcec4d5f687d024b93a2890f26fa1b487affb20cf\n",
      "Phone Wallet Public Key: 4e5046c8f1dbd1271c898230c61aa87ff5cdd3e2caea7ad7c02d7bc03ba4e6f2b21636987c15ee4dbd33605a2c5decc4d61e97a2faceacf8904958a0b5375ce2\n",
      "\n",
      "NFC Tag Signature Verification: True\n",
      "Phone Wallet Signature Verification: True\n"
     ]
    }
   ],
   "source": [
    "def sign_message(private_key_hex, message, nonce, timestamp, chain_id, contract_address):\n",
    "    private_key = ecdsa.SigningKey.from_string(bytes.fromhex(private_key_hex), curve=ecdsa.SECP256k1)\n",
    "    \n",
    "    # security parameters\n",
    "    full_message = f\"{message}|nonce:{nonce}|timestamp:{timestamp}|chain_id:{chain_id}|contract:{contract_address}\"\n",
    "    \n",
    "    message_hash = hashlib.sha3_256(full_message.encode('utf-8')).digest()\n",
    "    signature = private_key.sign(message_hash)\n",
    "    return signature.hex()\n",
    "\n",
    "# Security parameters\n",
    "nonce = secrets.randbits(32)\n",
    "timestamp = int(time.time())\n",
    "chain_id = 1\n",
    "contract_address = \"0x6dcF7b72a4a0236F7FF69ed42A861B3155f4dBfB\"\n",
    "\n",
    "\n",
    "\n",
    "# Messages to sign \n",
    "nfc_message = \"This is an NFC tag message\"\n",
    "phone_message = \"This is a phone wallet message\"\n",
    "\n",
    "nfc_signature = sign_message(nfc_private_key_hex, nfc_message, nonce, timestamp, chain_id, contract_address)\n",
    "phone_signature = sign_message(phone_private_key_hex, phone_message, nonce+1, timestamp, chain_id, contract_address)\n",
    "\n",
    "\n",
    "print(\"\\nNFC Tag Message:\", nfc_message)\n",
    "print(\"NFC Tag Signature:\", nfc_signature)\n",
    "\n",
    "print(\"\\nPhone Wallet Message:\", phone_message)\n",
    "print(\"Phone Wallet Signature:\", phone_signature)\n",
    "\n",
    "# Function to verify a signature\n",
    "def verify_signature(public_key_hex, message, signature_hex, nonce, timestamp, chain_id, contract_address, max_age=300):\n",
    "    public_key = ecdsa.VerifyingKey.from_string(bytes.fromhex(public_key_hex), curve=ecdsa.SECP256k1)\n",
    "    \n",
    "    # Reconstruct full message\n",
    "    full_message = f\"{message}|nonce:{nonce}|timestamp:{timestamp}|chain_id:{chain_id}|contract:{contract_address}\"\n",
    "    \n",
    "    message_hash = hashlib.sha3_256(full_message.encode('utf-8')).digest()\n",
    "    \n",
    "    # Check if the signature has expired\n",
    "    current_time = int(time.time())\n",
    "    if current_time - timestamp > max_age:\n",
    "        return False, \"Signature has expired\"\n",
    "    \n",
    "    try:\n",
    "        is_valid = public_key.verify(bytes.fromhex(signature_hex), message_hash)\n",
    "        return is_valid, \"Signature is valid\" if is_valid else \"Signature is invalid\"\n",
    "    except:\n",
    "        return False, \"Signature verification failed\"\n",
    "\n",
    "# Derive public keys from private keys\n",
    "nfc_public_key = ecdsa.SigningKey.from_string(bytes.fromhex(nfc_private_key_hex), curve=ecdsa.SECP256k1).get_verifying_key()\n",
    "phone_public_key = ecdsa.SigningKey.from_string(bytes.fromhex(phone_private_key_hex), curve=ecdsa.SECP256k1).get_verifying_key()\n",
    "\n",
    "nfc_public_key_hex = nfc_public_key.to_string().hex()\n",
    "phone_public_key_hex = phone_public_key.to_string().hex()\n",
    "\n",
    "print(\"\\nNFC Tag Public Key:\", nfc_public_key_hex)\n",
    "print(\"Phone Wallet Public Key:\", phone_public_key_hex)\n",
    "\n",
    "# verify signatures\n",
    "nfc_verification, nfc_message = verify_signature(nfc_public_key_hex, nfc_message, nfc_signature, nonce, timestamp, chain_id, contract_address)\n",
    "phone_verification, phone_message = verify_signature(phone_public_key_hex, phone_message, phone_signature, nonce+1, timestamp, chain_id, contract_address)\n",
    "\n",
    "print(\"\\nNFC Tag Signature Verification:\", nfc_verification)\n",
    "print(\"Phone Wallet Signature Verification:\", phone_verification)"
   ],
   "metadata": {
    "collapsed": false,
    "ExecuteTime": {
     "end_time": "2024-07-12T21:34:11.850138Z",
     "start_time": "2024-07-12T21:34:11.832670Z"
    }
   },
   "id": "c7c5834edcc6b087",
   "execution_count": 21
  },
  {
   "cell_type": "code",
   "outputs": [],
   "source": [
    "# at this point you should be able to activate the smart contract. "
   ],
   "metadata": {
    "collapsed": false
   },
   "id": "6e2ac89530a8b134"
  }
 ],
 "metadata": {
  "kernelspec": {
   "display_name": "Python 3",
   "language": "python",
   "name": "python3"
  },
  "language_info": {
   "codemirror_mode": {
    "name": "ipython",
    "version": 2
   },
   "file_extension": ".py",
   "mimetype": "text/x-python",
   "name": "python",
   "nbconvert_exporter": "python",
   "pygments_lexer": "ipython2",
   "version": "2.7.6"
  }
 },
 "nbformat": 4,
 "nbformat_minor": 5
}
